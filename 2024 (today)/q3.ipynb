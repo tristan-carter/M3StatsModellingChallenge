{
 "cells": [
  {
   "cell_type": "code",
   "execution_count": null,
   "metadata": {
    "vscode": {
     "languageId": "plaintext"
    }
   },
   "outputs": [],
   "source": [
    "import math\n",
    "import numpy as np\n",
    "import pandas as pd\n",
    "import matplotlib.pyplot as plt\n",
    "from matplotlib.lines import Line2D\n",
    "\n",
    "\n",
    "Years = np.array([2008,2009,2010,2011,2012,2013,2014,2015,2016,2017,2022])\n",
    "\n",
    "\n",
    "brightonhoveunemloymentRate={ \n",
    "    6.7,\n",
    "    6.4,  \n",
    "    6.8,  \n",
    "    7.8,   \n",
    "    7.4, \n",
    "    7.5,\n",
    "    8.1,\n",
    "    7.5,\n",
    "    6.3,\n",
    "    5.8,\n",
    "    4.6,\n",
    "}\n",
    "\n",
    "\n",
    "BPercentHomelessByHouseholdByYear={\n",
    "    0.6821,\n",
    "    0.6359,\n",
    "    0.7061,\n",
    "    0.8339,\n",
    "    0.8807,\n",
    "    1.049,\n",
    "    0.9819,\n",
    "    0.8365,\n",
    "    0.7010,\n",
    "    0.6525,\n",
    "    0.4072,\n",
    "}\n",
    "\n",
    "plt.scatter(brightonhoveunemloymentRate, \n",
    "BPercentHomelessByHouseholdByYear)\n",
    "plt.xlabel('Brighton Unemloyment Rate')\n",
    "plt.ylabel('Brighton Homeless Percent By Household')\n",
    "plt.title('Correlation between Brighton Unemloyment Rate and Brighton Homeless Percent By Household')\n",
    "plt.show()\n",
    "\n",
    "\n"
   ]
  },
  {
   "cell_type": "code",
   "execution_count": null,
   "metadata": {
    "vscode": {
     "languageId": "plaintext"
    }
   },
   "outputs": [],
   "source": [
    "import math\n",
    "import numpy as np\n",
    "import pandas as pd\n",
    "import matplotlib.pyplot as plt\n",
    "from matplotlib.lines import Line2D\n",
    "\n",
    "\n",
    "Years = np.array([2008,2009,2010,2011,2012,2013,2014,2015,2016,2017,2022])\n",
    "\n",
    "\n",
    "brightonhoveunemloymentRate={ \n",
    "    6.7,\n",
    "    6.4,  \n",
    "    6.8,  \n",
    "    7.8,   \n",
    "    7.4, \n",
    "    7.5,\n",
    "    8.1,\n",
    "    7.5,\n",
    "    6.3,\n",
    "    5.8,\n",
    "    4.6,\n",
    "}\n",
    "\n",
    "\n",
    "BPercentHomelessByHouseholdByYear={\n",
    "    0.6821,\n",
    "    0.6359,\n",
    "    0.7061,\n",
    "    0.8339,\n",
    "    0.8807,\n",
    "    1.049,\n",
    "    0.9819,\n",
    "    0.8365,\n",
    "    0.7010,\n",
    "    0.6525,\n",
    "    0.4072,\n",
    "}\n",
    "\n",
    "plt.scatter(brightonhoveunemloymentRate, \n",
    "BPercentHomelessByHouseholdByYear)\n",
    "plt.xlabel('Year')\n",
    "plt.ylabel('Percent of Workers Working from Home')\n",
    "plt.title('Percent of Workers Working from Home by Year')\n",
    "plt.show()\n",
    "\n",
    "\n"
   ]
  },
  {
   "cell_type": "code",
   "execution_count": null,
   "metadata": {},
   "outputs": [],
   "source": []
  }
 ],
 "metadata": {
  "kernelspec": {
   "display_name": "Python 3",
   "language": "python",
   "name": "python3"
  },
  "language_info": {
   "codemirror_mode": {
    "name": "ipython",
    "version": 3
   },
   "file_extension": ".py",
   "mimetype": "text/x-python",
   "name": "python",
   "nbconvert_exporter": "python",
   "pygments_lexer": "ipython3",
   "version": "3.12.2"
  }
 },
 "nbformat": 4,
 "nbformat_minor": 2
}
