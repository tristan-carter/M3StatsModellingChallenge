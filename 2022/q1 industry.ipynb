{
 "cells": [
  {
   "cell_type": "code",
   "execution_count": null,
   "metadata": {},
   "outputs": [],
   "source": [
    "import math\n",
    "import numpy as np\n",
    "import pandas as pd\n",
    "import matplotlib.pyplot as plt\n",
    "from sklearn.linear_model import LogisticRegression\n",
    "from sklearn.preprocessing import StandardScaler\n",
    "from sklearn.model_selection import train_test_split\n",
    "from sklearn.metrics import accuracy_score, confusion_matrix, r2_score"
   ]
  },
  {
   "cell_type": "code",
   "execution_count": null,
   "metadata": {},
   "outputs": [],
   "source": [
    "UScities={\n",
    "        (2000,'seattle','mining'):101700,\n",
    "        (2005,'seattle','mining'):104700,\n",
    "        (2010,'seattle','mining'):83600,\n",
    "        (2015,'seattle','mining'):107100,\n",
    "        (2019,'seattle','mining'):127600,\n",
    "        (2020,129900),(2021,109600),\n",
    "        'manufacturing':[(2000,212800),(2005)]\n",
    "    }\n"
   ]
  }
 ],
 "metadata": {
  "language_info": {
   "name": "python"
  }
 },
 "nbformat": 4,
 "nbformat_minor": 2
}
